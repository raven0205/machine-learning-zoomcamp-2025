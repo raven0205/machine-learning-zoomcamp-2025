{
 "cells": [
  {
   "cell_type": "markdown",
   "id": "74455171-c1bf-4559-a773-d1e74a15277d",
   "metadata": {},
   "source": [
    "## Homework\n",
    "\n",
    "> Note: sometimes your answer doesn't match one of the options exactly. \n",
    "> That's fine. \n",
    "> Select the option that's closest to your solution.\n",
    "\n",
    "We recommend using python 3.12 or 3.13 in this homework.\n",
    "\n",
    "In this homework, we're going to continue working with the lead scoring dataset. You don't need the dataset: we will provide the model for you.\n",
    "\n",
    "\n",
    "## Question 1\n",
    "\n",
    "* Install `uv`\n",
    "* What's the version of uv you installed?\n",
    "* Use `--version` to find out\n",
    "\n",
    "\n",
    "## Initialize an empty uv project\n",
    "\n",
    "You should create an empty folder for homework\n",
    "and do it there. \n",
    "\n",
    "\n",
    "## Question 2\n",
    "\n",
    "* Use uv to install Scikit-Learn version 1.6.1 \n",
    "* What's the first hash for Scikit-Learn you get in the lock file?\n",
    "* Include the entire string starting with sha256:, don't include quotes\n",
    "\n",
    "\n",
    "## Models\n",
    "\n",
    "We have prepared a pipeline with a dictionary vectorizer and a model.\n",
    "\n",
    "It was trained (roughly) using this code:\n",
    "\n",
    "```python\n",
    "categorical = ['lead_source']\n",
    "numeric = ['number_of_courses_viewed', 'annual_income']\n",
    "\n",
    "df[categorical] = df[categorical].fillna('NA')\n",
    "df[numeric] = df[numeric].fillna(0)\n",
    "\n",
    "train_dict = df[categorical + numeric].to_dict(orient='records')\n",
    "\n",
    "pipeline = make_pipeline(\n",
    "    DictVectorizer(),\n",
    "    LogisticRegression(solver='liblinear')\n",
    ")\n",
    "\n",
    "pipeline.fit(train_dict, y_train)\n",
    "```\n",
    "\n",
    "> **Note**: You don't need to train the model. This code is just for your reference.\n",
    "\n",
    "And then saved with Pickle. Download it [here](https://github.com/DataTalksClub/machine-learning-zoomcamp/tree/master/cohorts/2025/05-deployment/pipeline_v1.bin).\n",
    "\n",
    "With `wget`:\n",
    "\n",
    "```bash\n",
    "wget https://github.com/DataTalksClub/machine-learning-zoomcamp/raw/refs/heads/master/cohorts/2025/05-deployment/pipeline_v1.bin\n",
    "```\n",
    "\n",
    "\n",
    "## Question 3\n",
    "\n",
    "Let's use the model!\n",
    "\n",
    "* Write a script for loading the pipeline with pickle\n",
    "* Score this record:\n",
    "\n",
    "```json\n",
    "{\n",
    "    \"lead_source\": \"paid_ads\",\n",
    "    \"number_of_courses_viewed\": 2,\n",
    "    \"annual_income\": 79276.0\n",
    "}\n",
    "```\n",
    "\n",
    "What's the probability that this lead will convert? \n",
    "\n",
    "* 0.333\n",
    "* 0.533\n",
    "* 0.733\n",
    "* 0.933\n",
    "\n",
    "If you're getting errors when unpickling the files, check their checksum:\n",
    "\n",
    "```bash\n",
    "$ md5sum pipeline_v1.bin\n",
    "7d17d2e4dfbaf1e408e1a62e6e880d49 *pipeline_v1.bin\n",
    "```\n",
    "\n",
    "\n",
    "## Question 4\n",
    "\n",
    "Now let's serve this model as a web service\n",
    "\n",
    "* Install FastAPI\n",
    "* Write FastAPI code for serving the model\n",
    "* Now score this client using `requests`:\n",
    "\n",
    "```python\n",
    "url = \"YOUR_URL\"\n",
    "client = {\n",
    "    \"lead_source\": \"organic_search\",\n",
    "    \"number_of_courses_viewed\": 4,\n",
    "    \"annual_income\": 80304.0\n",
    "}\n",
    "requests.post(url, json=client).json()\n",
    "```\n",
    "\n",
    "What's the probability that this client will get a subscription?\n",
    "\n",
    "* 0.334\n",
    "* 0.534\n",
    "* 0.734\n",
    "* 0.934\n",
    "\n",
    "\n",
    "## Docker\n",
    "\n",
    "Install [Docker](https://github.com/DataTalksClub/machine-learning-zoomcamp/blob/master/05-deployment/06-docker.md). \n",
    "We will use it for the next two questions.\n",
    "\n",
    "For these questions, we prepared a base image: `agrigorev/zoomcamp-model:2025`. \n",
    "You'll need to use it (see Question 5 for an example).\n",
    "\n",
    "This image is based on `3.13.5-slim-bookworm` and has\n",
    "a pipeline with logistic regression (a different one)\n",
    "as well a dictionary vectorizer inside. \n",
    "\n",
    "This is how the Dockerfile for this image looks like:\n",
    "\n",
    "```docker \n",
    "FROM python:3.13.5-slim-bookworm\n",
    "WORKDIR /code\n",
    "COPY pipeline_v2.bin .\n",
    "```\n",
    "\n",
    "We already built it and then pushed it to [`agrigorev/zoomcamp-model:2025`](https://hub.docker.com/r/agrigorev/zoomcamp-model).\n",
    "\n",
    "> **Note**: You don't need to build this docker image, it's just for your reference.\n",
    "\n",
    "\n",
    "## Question 5\n",
    "\n",
    "Download the base image `agrigorev/zoomcamp-model:2025`. You can easily make it by using [docker pull](https://docs.docker.com/engine/reference/commandline/pull/) command.\n",
    "\n",
    "So what's the size of this base image?\n",
    "\n",
    "* 45 MB\n",
    "* 121 MB\n",
    "* 245 MB\n",
    "* 330 MB\n",
    "\n",
    "You can get this information when running `docker images` - it'll be in the \"SIZE\" column.\n",
    "\n",
    "\n",
    "## Dockerfile\n",
    "\n",
    "Now create your own `Dockerfile` based on the image we prepared.\n",
    "\n",
    "It should start like that:\n",
    "\n",
    "```docker\n",
    "FROM agrigorev/zoomcamp-model:2025\n",
    "# add your stuff here\n",
    "```\n",
    "\n",
    "Now complete it:\n",
    "\n",
    "* Install all the dependencies from pyproject.toml\n",
    "* Copy your FastAPI script\n",
    "* Run it with uvicorn \n",
    "\n",
    "After that, you can build your docker image.\n",
    "\n",
    "\n",
    "## Question 6\n",
    "\n",
    "Let's run your docker container!\n",
    "\n",
    "After running it, score this client once again:\n",
    "\n",
    "```python\n",
    "url = \"YOUR_URL\"\n",
    "client = {\n",
    "    \"lead_source\": \"organic_search\",\n",
    "    \"number_of_courses_viewed\": 4,\n",
    "    \"annual_income\": 80304.0\n",
    "}\n",
    "requests.post(url, json=client).json()\n",
    "```\n",
    "\n",
    "What's the probability that this lead will convert?\n",
    "\n",
    "* 0.39\n",
    "* 0.59\n",
    "* 0.79\n",
    "* 0.99\n",
    "\n",
    "\n",
    "## Submit the results\n",
    "\n",
    "* Submit your results here: https://courses.datatalks.club/ml-zoomcamp-2025/homework/hw05\n",
    "* If your answer doesn't match options exactly, select the closest one\n",
    "\n",
    "\n",
    "\n",
    "## Publishing to Docker hub\n",
    "\n",
    "This is just for reference, this is how we published an image to Docker hub.\n",
    "\n",
    "`Dockerfile_base`: \n",
    "\n",
    "```dockerfile\n",
    "FROM python:3.13.5-slim-bookworm\n",
    "WORKDIR /code\n",
    "COPY pipeline_v2.bin .\n",
    "```\n",
    "\n",
    "Publishing:\n",
    "\n",
    "```bash\n",
    "docker build -t mlzoomcamp2025_hw5 -f Dockerfile_base .\n",
    "docker tag mlzoomcamp2025_hw5:latest agrigorev/zoomcamp-model:2025\n",
    "docker push agrigorev/zoomcamp-model:2025\n",
    "```\n"
   ]
  },
  {
   "cell_type": "code",
   "execution_count": 1,
   "id": "f9f56b2c-7539-464e-9a1c-7b3ad26b5870",
   "metadata": {},
   "outputs": [
    {
     "name": "stdout",
     "output_type": "stream",
     "text": [
      "uv 0.9.5\n"
     ]
    }
   ],
   "source": [
    "## question 1\n",
    "#!pip install uv\n",
    "import uv\n",
    "!uv --version"
   ]
  },
  {
   "cell_type": "code",
   "execution_count": 2,
   "id": "d093ed3f-064c-4abc-97ec-b9377fccde54",
   "metadata": {},
   "outputs": [],
   "source": [
    "## question 2"
   ]
  },
  {
   "cell_type": "code",
   "execution_count": 3,
   "id": "6589c779-fcb0-4748-8cac-a67dfc56ba48",
   "metadata": {},
   "outputs": [
    {
     "name": "stdout",
     "output_type": "stream",
     "text": [
      "Locking  dependencies\u001b[33m...\u001b[0m\n",
      "\u001b[?25lBuilding requirements...\n",
      "\u001b[2KResolving dependencies....\n",
      "\u001b[2K✔ Success! Locking packages...\n",
      "\u001b[2K\u001b[32m⠋\u001b[0m Locking packages...\n",
      "\u001b[1A\u001b[2KLocking  dependencies\u001b[33m...\u001b[0m\n",
      "\u001b[1mUpdated Pipfile.lock \u001b[0m\n",
      "\u001b[1m(\u001b[0m\u001b[1m8924bdcf803b9faae59e21af66cbfda2f6ebc6e464b9ea2ac58673899b01f5ad\u001b[0m\u001b[1m)\u001b[0m\u001b[1m!\u001b[0m\n"
     ]
    }
   ],
   "source": [
    "!pipenv lock"
   ]
  },
  {
   "cell_type": "code",
   "execution_count": 4,
   "id": "6632c11e-5450-44c5-8513-ae1b98a9a1e3",
   "metadata": {},
   "outputs": [],
   "source": [
    "# import libraries\n",
    "import pandas as pd\n",
    "import numpy as np\n",
    "\n",
    "from sklearn.model_selection import train_test_split\n",
    "from sklearn.model_selection import KFold\n",
    "from sklearn.pipeline import Pipeline\n",
    "\n",
    "from sklearn.feature_extraction import DictVectorizer\n",
    "from sklearn.linear_model import LogisticRegression\n",
    "from sklearn.metrics import roc_auc_score"
   ]
  },
  {
   "cell_type": "code",
   "execution_count": 67,
   "id": "5525365a-b1e7-4e84-9dd4-5137a2258b89",
   "metadata": {},
   "outputs": [
    {
     "name": "stdout",
     "output_type": "stream",
     "text": [
      "Python 3.12.3\n"
     ]
    }
   ],
   "source": [
    "!pipenv run python --version"
   ]
  },
  {
   "cell_type": "code",
   "execution_count": 45,
   "id": "6bd328de-4b8c-4fc3-b95d-28c1be74eb39",
   "metadata": {},
   "outputs": [
    {
     "name": "stdout",
     "output_type": "stream",
     "text": [
      "\u001b[1mCreating a virtualenv for this project\u001b[0m\n",
      "Pipfile: \u001b[1;33m/workspaces/machine-learning-zoomcamp-2025/05-deployment/\u001b[0m\u001b[1;33mPipfile\u001b[0m\n",
      "\u001b[1mUsing\u001b[0m \u001b[1;33m/opt/conda/bin/\u001b[0m\u001b[1;33mpython3.1\u001b[0m\u001b[32m3.12.3\u001b[0m\u001b[32m \u001b[0m\u001b[1;32mto create virtualenv\u001b[0m\u001b[1;32m...\u001b[0m\n",
      "\u001b[2K\u001b[32m⠼\u001b[0m Creating virtual environment...\u001b[36mcreated virtual environment CPython3.\u001b[0m\u001b[1;36m12.3\u001b[0m\u001b[36m.final.\u001b[0m\u001b[1;36m0\u001b[0m\u001b[36m-\u001b[0m\u001b[1;36m64\u001b[0m\u001b[36m in 299ms\u001b[0m\n",
      "\u001b[36m  creator \u001b[0m\n",
      "\u001b[1;36mCPython3Posix\u001b[0m\u001b[1;36m(\u001b[0m\u001b[36mdest\u001b[0m\u001b[36m=\u001b[0m\u001b[36m/home/codespace/.local/share/virtualenvs/\u001b[0m\u001b[36m05-deployment-7mY0q0\u001b[0m\n",
      "\u001b[36moF\u001b[0m\u001b[36m, \u001b[0m\u001b[36mclear\u001b[0m\u001b[36m=\u001b[0m\u001b[3;36mFalse\u001b[0m\u001b[36m, \u001b[0m\u001b[36mno_vcs_ignore\u001b[0m\u001b[36m=\u001b[0m\u001b[3;36mFalse\u001b[0m\u001b[36m, \u001b[0m\u001b[36mglobal\u001b[0m\u001b[36m=\u001b[0m\u001b[3;36mFalse\u001b[0m\u001b[1;36m)\u001b[0m\n",
      "\u001b[36m  seeder \u001b[0m\u001b[1;36mFromAppData\u001b[0m\u001b[1;36m(\u001b[0m\u001b[36mdownload\u001b[0m\u001b[36m=\u001b[0m\u001b[3;36mFalse\u001b[0m\u001b[36m, \u001b[0m\u001b[36mpip\u001b[0m\u001b[36m=\u001b[0m\u001b[36mbundle\u001b[0m\u001b[36m, \u001b[0m\u001b[36mvia\u001b[0m\u001b[36m=\u001b[0m\u001b[36mcopy\u001b[0m\u001b[36m, \u001b[0m\n",
      "\u001b[36mapp_data_dir\u001b[0m\u001b[36m=\u001b[0m\u001b[36m/home/codespace/.local/share/\u001b[0m\u001b[36mvirtualenv\u001b[0m\u001b[1;36m)\u001b[0m\n",
      "\u001b[36m    added seed packages: \u001b[0m\u001b[36mpip\u001b[0m\u001b[36m==\u001b[0m\u001b[1;36m25.2\u001b[0m\n",
      "\u001b[36m  activators \u001b[0m\n",
      "\u001b[36mBashActivator,CShellActivator,FishActivator,NushellActivator,PowerShellActivator\u001b[0m\n",
      "\u001b[36m,PythonActivator\u001b[0m\n",
      "\n",
      "✔ Successfully created virtual environment!\n",
      "\u001b[2K\u001b[32m⠼\u001b[0m Creating virtual environment...\n",
      "\u001b[1A\u001b[2K\u001b[32mVirtualenv location: \u001b[0m\u001b[32m/home/codespace/.local/share/virtualenvs/\u001b[0m\u001b[32m05-deployment-7mY0q0oF\u001b[0m\n",
      "\u001b[1;33mPipfile.lock \u001b[0m\u001b[1;33m(\u001b[0m\u001b[1;33m4b4a347d8911f5ef600c0af18425906be66abdfc24185fca10e755f2a4a65e94\u001b[0m\u001b[1;33m)\u001b[0m\u001b[1;33m \u001b[0m\n",
      "\u001b[1;33mout of date: run `pipenv lock` to update to \u001b[0m\n",
      "\u001b[1;33m(\u001b[0m\u001b[1;33md40764c2d17c3cb05428f7e7fb9dfe1f8dad982261f838e5e89ed0d0dbc8acdf\u001b[0m\u001b[1;33m)\u001b[0m\u001b[1;33m...\u001b[0m\n",
      "Locking  dependencies\u001b[33m...\u001b[0m\n",
      "\u001b[?25lBuilding requirements...\n",
      "\u001b[2KResolving dependencies....\n",
      "\u001b[2K✔ Success! Locking packages...\n",
      "\u001b[2K\u001b[32m⠼\u001b[0m Locking packages...\n",
      "\u001b[1A\u001b[2KLocking  dependencies\u001b[33m...\u001b[0m\n",
      "\u001b[1mUpdated Pipfile.lock \u001b[0m\n",
      "\u001b[1m(\u001b[0m\u001b[1md40764c2d17c3cb05428f7e7fb9dfe1f8dad982261f838e5e89ed0d0dbc8acdf\u001b[0m\u001b[1m)\u001b[0m\u001b[1m!\u001b[0m\n",
      "To activate this project's virtualenv, run \u001b[33mpipenv shell\u001b[0m.\n",
      "Alternatively, run a command inside the virtualenv with \u001b[33mpipenv run\u001b[0m.\n",
      "\u001b[1mInstalling dependencies from Pipfile.lock \u001b[0m\u001b[1;39m(c8acdf)...\u001b[0m\n"
     ]
    }
   ],
   "source": [
    "!pipenv install"
   ]
  },
  {
   "cell_type": "code",
   "execution_count": 46,
   "id": "34dcd09e-2dca-4bed-8caa-f36ef08ab225",
   "metadata": {},
   "outputs": [
    {
     "name": "stdout",
     "output_type": "stream",
     "text": [
      "1.6.1\n"
     ]
    }
   ],
   "source": [
    "!pipenv run python -c \"import sklearn; print(sklearn.__version__)\""
   ]
  },
  {
   "cell_type": "code",
   "execution_count": 15,
   "id": "c6c97b5b-3bcb-461b-bc2a-9941850b4a54",
   "metadata": {},
   "outputs": [
    {
     "name": "stdout",
     "output_type": "stream",
     "text": [
      "sha256:0650e730afb87402baa88afbf31c07b84c98272622aaba002559b614600ca691\n"
     ]
    }
   ],
   "source": [
    "## extract the hash using grep\n",
    "!grep -A 10 '\"scikit-learn\": {' Pipfile.lock | grep -m 1 'sha256:' | sed 's/.*\"\\(sha256:[^\"]*\\)\".*/\\1/'"
   ]
  },
  {
   "cell_type": "code",
   "execution_count": 16,
   "id": "9627bebc-faf8-4c49-bd0f-f2a8ce793308",
   "metadata": {},
   "outputs": [],
   "source": [
    "## preparing models\n",
    "#!wget https://github.com/DataTalksClub/machine-learning-zoomcamp/raw/refs/heads/master/cohorts/2025/05-deployment/pipeline_v1.bin"
   ]
  },
  {
   "cell_type": "code",
   "execution_count": 47,
   "id": "b295ae40-4f73-4c7f-ac7d-c03fa8c88d18",
   "metadata": {},
   "outputs": [
    {
     "name": "stdout",
     "output_type": "stream",
     "text": [
      "To activate this project's virtualenv, run \u001b[33mpipenv shell\u001b[0m.\n",
      "Alternatively, run a command inside the virtualenv with \u001b[33mpipenv run\u001b[0m.\n",
      "\u001b[1;32mInstalling flask...\u001b[0m\n",
      "✔ Installation Succeeded\n",
      "\u001b[1;32mInstalling joblib...\u001b[0m\n",
      "✔ Installation Succeeded\n",
      "\u001b[1;32mInstalling requests...\u001b[0m\n",
      "✔ Installation Succeeded\n",
      "To activate this project's virtualenv, run \u001b[33mpipenv shell\u001b[0m.\n",
      "Alternatively, run a command inside the virtualenv with \u001b[33mpipenv run\u001b[0m.\n",
      "\u001b[1mInstalling dependencies from Pipfile.lock \u001b[0m\u001b[1;39m(c8acdf)...\u001b[0m\n",
      "\u001b[32mAll dependencies are now up-to-date!\u001b[0m\n",
      "\u001b[1;32mUpgrading\u001b[0m flask, joblib, requests in \u001b[39m dependencies.\u001b[0m\n",
      "\u001b[?25lBuilding requirements...\n",
      "\u001b[2KResolving dependencies....\n",
      "\u001b[2K✔ Success! Locking packages...\n",
      "\u001b[2K\u001b[32m⠋\u001b[0m Locking packages...\n",
      "\u001b[1A\u001b[2K\u001b[?25lBuilding requirements...\n",
      "\u001b[2KResolving dependencies....\n",
      "\u001b[2K✔ Success! Locking packages...\n",
      "\u001b[2K\u001b[32m⠇\u001b[0m Locking packages...\n",
      "\u001b[1A\u001b[2KTo activate this project's virtualenv, run \u001b[33mpipenv shell\u001b[0m.\n",
      "Alternatively, run a command inside the virtualenv with \u001b[33mpipenv run\u001b[0m.\n",
      "\u001b[1mInstalling dependencies from Pipfile.lock \u001b[0m\u001b[1;39m(c8acdf)...\u001b[0m\n",
      "\u001b[32mAll dependencies are now up-to-date!\u001b[0m\n",
      "\u001b[1mInstalling dependencies from Pipfile.lock \u001b[0m\u001b[1;39m(c8acdf)...\u001b[0m\n"
     ]
    }
   ],
   "source": [
    "## question 3\n",
    "!pipenv install flask joblib requests"
   ]
  },
  {
   "cell_type": "code",
   "execution_count": 27,
   "id": "b210c265-fd2b-402c-b12b-1b4ac297681c",
   "metadata": {
    "scrolled": true
   },
   "outputs": [
    {
     "name": "stdout",
     "output_type": "stream",
     "text": [
      "0.5336072702798061\n"
     ]
    }
   ],
   "source": [
    "# run the predict.py\n",
    "!pipenv run python predict-test.py"
   ]
  },
  {
   "cell_type": "code",
   "execution_count": 48,
   "id": "5b8782c9-64f1-494f-b058-d78fb2e3e8a3",
   "metadata": {},
   "outputs": [
    {
     "name": "stdout",
     "output_type": "stream",
     "text": [
      "To activate this project's virtualenv, run \u001b[33mpipenv shell\u001b[0m.\n",
      "Alternatively, run a command inside the virtualenv with \u001b[33mpipenv run\u001b[0m.\n",
      "\u001b[1;32mInstalling typing...\u001b[0m\n",
      "✔ Installation Succeeded\n",
      "\u001b[1;32mInstalling pydantic...\u001b[0m\n",
      "✔ Installation Succeeded\n",
      "\u001b[1;32mInstalling fastapi...\u001b[0m\n",
      "✔ Installation Succeeded\n",
      "\u001b[1;32mInstalling uvicorn...\u001b[0m\n",
      "✔ Installation Succeeded\n",
      "To activate this project's virtualenv, run \u001b[33mpipenv shell\u001b[0m.\n",
      "Alternatively, run a command inside the virtualenv with \u001b[33mpipenv run\u001b[0m.\n",
      "\u001b[1mInstalling dependencies from Pipfile.lock \u001b[0m\u001b[1;39m(c8acdf)...\u001b[0m\n",
      "\u001b[32mAll dependencies are now up-to-date!\u001b[0m\n",
      "\u001b[1;32mUpgrading\u001b[0m typing, pydantic, fastapi, uvicorn in \u001b[39m dependencies.\u001b[0m\n",
      "\u001b[?25lBuilding requirements...\n",
      "\u001b[2KResolving dependencies....\n",
      "\u001b[2K✔ Success! Locking packages...\n",
      "\u001b[2K\u001b[32m⠏\u001b[0m Locking packages...\n",
      "\u001b[1A\u001b[2K\u001b[?25lBuilding requirements...\n",
      "\u001b[2KResolving dependencies....\n",
      "\u001b[2K✔ Success! Locking packages...\n",
      "\u001b[2K\u001b[32m⠏\u001b[0m Locking packages...\n",
      "\u001b[1A\u001b[2KTo activate this project's virtualenv, run \u001b[33mpipenv shell\u001b[0m.\n",
      "Alternatively, run a command inside the virtualenv with \u001b[33mpipenv run\u001b[0m.\n",
      "\u001b[1mInstalling dependencies from Pipfile.lock \u001b[0m\u001b[1;39m(afa840)...\u001b[0m\n",
      "\u001b[32mAll dependencies are now up-to-date!\u001b[0m\n",
      "\u001b[1mInstalling dependencies from Pipfile.lock \u001b[0m\u001b[1;39m(afa840)...\u001b[0m\n"
     ]
    }
   ],
   "source": [
    "## question 4\n",
    "!pipenv install typing pydantic fastapi uvicorn"
   ]
  },
  {
   "cell_type": "code",
   "execution_count": 7,
   "id": "060651ab-3fdc-47db-b223-8323973d1334",
   "metadata": {},
   "outputs": [
    {
     "name": "stdout",
     "output_type": "stream",
     "text": [
      "Using CPython 3.12.3 interpreter at: \u001b[36m/opt/conda/bin/python3\u001b[39m\n",
      "\u001b[2K\u001b[2mResolved \u001b[1m127 packages\u001b[0m \u001b[2min 1.60s\u001b[0m\u001b[0m                                       \u001b[0m\n",
      "\u001b[1m\u001b[31mRemoved\u001b[39m\u001b[0m blinker v1.9.0\n",
      "\u001b[1m\u001b[31mRemoved\u001b[39m\u001b[0m flask v3.1.2\n",
      "\u001b[1m\u001b[31mRemoved\u001b[39m\u001b[0m itsdangerous v2.2.0\n",
      "\u001b[1m\u001b[31mRemoved\u001b[39m\u001b[0m werkzeug v3.1.3\n"
     ]
    }
   ],
   "source": [
    "## run the uv lock\n",
    "!pipenv run uv lock"
   ]
  },
  {
   "cell_type": "code",
   "execution_count": 66,
   "id": "473d7a89-6ebb-4ae7-8ae4-b04f585e647c",
   "metadata": {},
   "outputs": [
    {
     "name": "stdout",
     "output_type": "stream",
     "text": [
      "Conversion Probability: 0.5340417283801275\n",
      "Converted: True\n"
     ]
    }
   ],
   "source": [
    "# run the predictv2.py\n",
    "!pipenv run python predict-testv2.py"
   ]
  },
  {
   "cell_type": "code",
   "execution_count": 1,
   "id": "5718a8c3-d483-4a33-b968-9404f1d22bc8",
   "metadata": {},
   "outputs": [
    {
     "name": "stdout",
     "output_type": "stream",
     "text": [
      "REPOSITORY                       TAG       IMAGE ID       CREATED         SIZE\n",
      "raven0205/05-deployment/models   v1.0      c1f01e39d0da   5 minutes ago   767MB\n",
      "agrigorev/zoomcamp-model         2025      4a9ecc576ae9   2 days ago      121MB\n"
     ]
    }
   ],
   "source": [
    "## question 5 check the image size after docker pull agrigorev/zoomcamp-model:2025\n",
    "!pipenv run docker images"
   ]
  },
  {
   "cell_type": "code",
   "execution_count": 4,
   "id": "476a1fef-44f6-495d-bae5-c58d46142579",
   "metadata": {},
   "outputs": [
    {
     "name": "stdout",
     "output_type": "stream",
     "text": [
      "CONTAINER ID   IMAGE          COMMAND     CREATED         STATUS         PORTS     NAMES\n",
      "4dcfcdab7de8   4a9ecc576ae9   \"python3\"   2 minutes ago   Up 2 minutes             dazzling_northcutt\n"
     ]
    }
   ],
   "source": [
    "!pipenv run docker ps"
   ]
  },
  {
   "cell_type": "code",
   "execution_count": 10,
   "id": "452eb6d8-2349-460a-8ec0-cd7d972e2dd3",
   "metadata": {},
   "outputs": [
    {
     "name": "stdout",
     "output_type": "stream",
     "text": [
      "{\"c_probability\":0.5340417283801275,\"converted\":true}"
     ]
    }
   ],
   "source": [
    "## question 6 run the predict on json\n",
    "!pipenv run curl -X POST \\\n",
    "      -H \"Content-Type: application/json\" \\\n",
    "      -d '{\"lead_source\": \"organic_search\", \"number_of_courses_viewed\": 4, \"annual_income\": \"80304.0\"}' \\\n",
    "      http://localhost:9696/predict"
   ]
  }
 ],
 "metadata": {
  "kernelspec": {
   "display_name": "Python 3 (ipykernel)",
   "language": "python",
   "name": "python3"
  },
  "language_info": {
   "codemirror_mode": {
    "name": "ipython",
    "version": 3
   },
   "file_extension": ".py",
   "mimetype": "text/x-python",
   "name": "python",
   "nbconvert_exporter": "python",
   "pygments_lexer": "ipython3",
   "version": "3.12.1"
  }
 },
 "nbformat": 4,
 "nbformat_minor": 5
}
