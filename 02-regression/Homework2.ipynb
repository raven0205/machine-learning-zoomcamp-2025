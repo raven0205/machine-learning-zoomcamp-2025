{
 "cells": [
  {
   "cell_type": "markdown",
   "id": "dcafb206-ca71-4e08-8e27-1ebd9d4d404c",
   "metadata": {},
   "source": [
    "### 2. Machine Learning for Regression"
   ]
  },
  {
   "cell_type": "code",
   "execution_count": 1,
   "id": "3ce4a072-f55f-4835-a71b-08959ab3deee",
   "metadata": {},
   "outputs": [],
   "source": [
    "# import the libraries\n",
    "import pandas as pd\n",
    "import numpy as np\n",
    "import matplotlib.pyplot as plt\n",
    "import seaborn as sns"
   ]
  },
  {
   "cell_type": "markdown",
   "id": "1d6556d8-400d-4350-82ec-de03d4d0935b",
   "metadata": {},
   "source": [
    "### 2.2 Data Preparation\n",
    "The goal of this homework is to create a regression model for predicting the car fuel efficiency (column `'fuel_efficiency_mpg'`)."
   ]
  },
  {
   "cell_type": "code",
   "execution_count": 2,
   "id": "76843240-42bf-491f-9040-a9d9ddd3c03b",
   "metadata": {},
   "outputs": [],
   "source": [
    "data = 'https://raw.githubusercontent.com/alexeygrigorev/datasets/master/car_fuel_efficiency.csv'"
   ]
  },
  {
   "cell_type": "code",
   "execution_count": 3,
   "id": "903f99c7-529e-417e-8a3d-1c9501d2b9a0",
   "metadata": {},
   "outputs": [
    {
     "name": "stdout",
     "output_type": "stream",
     "text": [
      "--2025-10-04 17:21:23--  https://raw.githubusercontent.com/alexeygrigorev/datasets/master/car_fuel_efficiency.csv\n",
      "Resolving raw.githubusercontent.com (raw.githubusercontent.com)... 185.199.109.133, 185.199.110.133, 185.199.111.133, ...\n",
      "Connecting to raw.githubusercontent.com (raw.githubusercontent.com)|185.199.109.133|:443... connected.\n",
      "HTTP request sent, awaiting response... 200 OK\n",
      "Length: 874188 (854K) [text/plain]\n",
      "Saving to: ‘car_fuel_efficiency.csv.2’\n",
      "\n",
      "car_fuel_efficiency 100%[===================>] 853.70K  --.-KB/s    in 0.006s  \n",
      "\n",
      "2025-10-04 17:21:24 (133 MB/s) - ‘car_fuel_efficiency.csv.2’ saved [874188/874188]\n",
      "\n"
     ]
    }
   ],
   "source": [
    "!wget $data"
   ]
  },
  {
   "cell_type": "code",
   "execution_count": 4,
   "id": "4f0b1596-a6e4-4551-a8c2-93c181ae1fea",
   "metadata": {},
   "outputs": [
    {
     "data": {
      "text/html": [
       "<div>\n",
       "<style scoped>\n",
       "    .dataframe tbody tr th:only-of-type {\n",
       "        vertical-align: middle;\n",
       "    }\n",
       "\n",
       "    .dataframe tbody tr th {\n",
       "        vertical-align: top;\n",
       "    }\n",
       "\n",
       "    .dataframe thead th {\n",
       "        text-align: right;\n",
       "    }\n",
       "</style>\n",
       "<table border=\"1\" class=\"dataframe\">\n",
       "  <thead>\n",
       "    <tr style=\"text-align: right;\">\n",
       "      <th></th>\n",
       "      <th>engine_displacement</th>\n",
       "      <th>num_cylinders</th>\n",
       "      <th>horsepower</th>\n",
       "      <th>vehicle_weight</th>\n",
       "      <th>acceleration</th>\n",
       "      <th>model_year</th>\n",
       "      <th>origin</th>\n",
       "      <th>fuel_type</th>\n",
       "      <th>drivetrain</th>\n",
       "      <th>num_doors</th>\n",
       "      <th>fuel_efficiency_mpg</th>\n",
       "    </tr>\n",
       "  </thead>\n",
       "  <tbody>\n",
       "    <tr>\n",
       "      <th>0</th>\n",
       "      <td>170</td>\n",
       "      <td>3.0</td>\n",
       "      <td>159.0</td>\n",
       "      <td>3413.433759</td>\n",
       "      <td>17.7</td>\n",
       "      <td>2003</td>\n",
       "      <td>Europe</td>\n",
       "      <td>Gasoline</td>\n",
       "      <td>All-wheel drive</td>\n",
       "      <td>0.0</td>\n",
       "      <td>13.231729</td>\n",
       "    </tr>\n",
       "    <tr>\n",
       "      <th>1</th>\n",
       "      <td>130</td>\n",
       "      <td>5.0</td>\n",
       "      <td>97.0</td>\n",
       "      <td>3149.664934</td>\n",
       "      <td>17.8</td>\n",
       "      <td>2007</td>\n",
       "      <td>USA</td>\n",
       "      <td>Gasoline</td>\n",
       "      <td>Front-wheel drive</td>\n",
       "      <td>0.0</td>\n",
       "      <td>13.688217</td>\n",
       "    </tr>\n",
       "    <tr>\n",
       "      <th>2</th>\n",
       "      <td>170</td>\n",
       "      <td>NaN</td>\n",
       "      <td>78.0</td>\n",
       "      <td>3079.038997</td>\n",
       "      <td>15.1</td>\n",
       "      <td>2018</td>\n",
       "      <td>Europe</td>\n",
       "      <td>Gasoline</td>\n",
       "      <td>Front-wheel drive</td>\n",
       "      <td>0.0</td>\n",
       "      <td>14.246341</td>\n",
       "    </tr>\n",
       "    <tr>\n",
       "      <th>3</th>\n",
       "      <td>220</td>\n",
       "      <td>4.0</td>\n",
       "      <td>NaN</td>\n",
       "      <td>2542.392402</td>\n",
       "      <td>20.2</td>\n",
       "      <td>2009</td>\n",
       "      <td>USA</td>\n",
       "      <td>Diesel</td>\n",
       "      <td>All-wheel drive</td>\n",
       "      <td>2.0</td>\n",
       "      <td>16.912736</td>\n",
       "    </tr>\n",
       "    <tr>\n",
       "      <th>4</th>\n",
       "      <td>210</td>\n",
       "      <td>1.0</td>\n",
       "      <td>140.0</td>\n",
       "      <td>3460.870990</td>\n",
       "      <td>14.4</td>\n",
       "      <td>2009</td>\n",
       "      <td>Europe</td>\n",
       "      <td>Gasoline</td>\n",
       "      <td>All-wheel drive</td>\n",
       "      <td>2.0</td>\n",
       "      <td>12.488369</td>\n",
       "    </tr>\n",
       "  </tbody>\n",
       "</table>\n",
       "</div>"
      ],
      "text/plain": [
       "   engine_displacement  num_cylinders  horsepower  vehicle_weight  \\\n",
       "0                  170            3.0       159.0     3413.433759   \n",
       "1                  130            5.0        97.0     3149.664934   \n",
       "2                  170            NaN        78.0     3079.038997   \n",
       "3                  220            4.0         NaN     2542.392402   \n",
       "4                  210            1.0       140.0     3460.870990   \n",
       "\n",
       "   acceleration  model_year  origin fuel_type         drivetrain  num_doors  \\\n",
       "0          17.7        2003  Europe  Gasoline    All-wheel drive        0.0   \n",
       "1          17.8        2007     USA  Gasoline  Front-wheel drive        0.0   \n",
       "2          15.1        2018  Europe  Gasoline  Front-wheel drive        0.0   \n",
       "3          20.2        2009     USA    Diesel    All-wheel drive        2.0   \n",
       "4          14.4        2009  Europe  Gasoline    All-wheel drive        2.0   \n",
       "\n",
       "   fuel_efficiency_mpg  \n",
       "0            13.231729  \n",
       "1            13.688217  \n",
       "2            14.246341  \n",
       "3            16.912736  \n",
       "4            12.488369  "
      ]
     },
     "execution_count": 4,
     "metadata": {},
     "output_type": "execute_result"
    }
   ],
   "source": [
    "df = pd.read_csv('car_fuel_efficiency.csv')\n",
    "df.head()"
   ]
  },
  {
   "cell_type": "code",
   "execution_count": 5,
   "id": "a1a7f158-0bec-4cbd-9a0c-b69c097db29d",
   "metadata": {},
   "outputs": [
    {
     "name": "stdout",
     "output_type": "stream",
     "text": [
      "Index(['engine_displacement', 'num_cylinders', 'horsepower', 'vehicle_weight',\n",
      "       'acceleration', 'model_year', 'origin', 'fuel_type', 'drivetrain',\n",
      "       'num_doors', 'fuel_efficiency_mpg'],\n",
      "      dtype='object')\n"
     ]
    }
   ],
   "source": [
    "## standardize the column names to lower and _ to separate blank spaces\n",
    "df.columns = df.columns.str.lower().str.replace(' ','_')\n",
    "print(df.columns)"
   ]
  },
  {
   "cell_type": "code",
   "execution_count": 6,
   "id": "e2a76c55-4a38-4988-937d-1a99c1e6ec26",
   "metadata": {},
   "outputs": [
    {
     "data": {
      "text/plain": [
       "engine_displacement      int64\n",
       "num_cylinders          float64\n",
       "horsepower             float64\n",
       "vehicle_weight         float64\n",
       "acceleration           float64\n",
       "model_year               int64\n",
       "origin                  object\n",
       "fuel_type               object\n",
       "drivetrain              object\n",
       "num_doors              float64\n",
       "fuel_efficiency_mpg    float64\n",
       "dtype: object"
      ]
     },
     "execution_count": 6,
     "metadata": {},
     "output_type": "execute_result"
    }
   ],
   "source": [
    "df.dtypes"
   ]
  },
  {
   "cell_type": "code",
   "execution_count": 7,
   "id": "dacb25f2-4c7d-4308-9a97-035f0a35d3b4",
   "metadata": {},
   "outputs": [
    {
     "data": {
      "text/plain": [
       "['origin', 'fuel_type', 'drivetrain']"
      ]
     },
     "execution_count": 7,
     "metadata": {},
     "output_type": "execute_result"
    }
   ],
   "source": [
    "# to name the columns with object values\n",
    "strings = list(df.loc[:,df.dtypes == 'object'].columns)\n",
    "strings"
   ]
  },
  {
   "cell_type": "code",
   "execution_count": 8,
   "id": "6592be2f-4ef6-4761-9f9e-e30d51d89f1d",
   "metadata": {},
   "outputs": [
    {
     "name": "stdout",
     "output_type": "stream",
     "text": [
      "   engine_displacement  num_cylinders  horsepower  vehicle_weight  \\\n",
      "0                  170            3.0       159.0     3413.433759   \n",
      "1                  130            5.0        97.0     3149.664934   \n",
      "2                  170            NaN        78.0     3079.038997   \n",
      "3                  220            4.0         NaN     2542.392402   \n",
      "4                  210            1.0       140.0     3460.870990   \n",
      "\n",
      "   acceleration  model_year  origin fuel_type         drivetrain  num_doors  \\\n",
      "0          17.7        2003  europe  gasoline    all_wheel_drive        0.0   \n",
      "1          17.8        2007     usa  gasoline  front_wheel_drive        0.0   \n",
      "2          15.1        2018  europe  gasoline  front_wheel_drive        0.0   \n",
      "3          20.2        2009     usa    diesel    all_wheel_drive        2.0   \n",
      "4          14.4        2009  europe  gasoline    all_wheel_drive        2.0   \n",
      "\n",
      "   fuel_efficiency_mpg  \n",
      "0            13.231729  \n",
      "1            13.688217  \n",
      "2            14.246341  \n",
      "3            16.912736  \n",
      "4            12.488369  \n"
     ]
    }
   ],
   "source": [
    "# to standardize the values\n",
    "for col in strings:\n",
    "    df[col] = df[col].str.lower().str.replace(r'[ \\-]','_',regex=True)\n",
    "print(df.head())"
   ]
  },
  {
   "cell_type": "code",
   "execution_count": 9,
   "id": "f83e307d-6b4b-489b-b14d-3d2de621a9b4",
   "metadata": {},
   "outputs": [
    {
     "name": "stdout",
     "output_type": "stream",
     "text": [
      "origin\n",
      "['europe' 'usa' 'asia']\n",
      "3\n",
      "fuel_type\n",
      "['gasoline' 'diesel']\n",
      "2\n",
      "drivetrain\n",
      "['all_wheel_drive' 'front_wheel_drive']\n",
      "2\n"
     ]
    }
   ],
   "source": [
    "# to check how many values in each columns with object dtype\n",
    "for col in strings:\n",
    "    print(col)\n",
    "    print(df[col].unique())\n",
    "    print(df[col].nunique())\n",
    "    "
   ]
  },
  {
   "cell_type": "markdown",
   "id": "5b320fd0-e817-4a94-abc7-8023b5f22a74",
   "metadata": {},
   "source": [
    "### Preparing the dataset \n",
    "\n",
    "Use only the following columns:\n",
    "\n",
    "* `'engine_displacement'`,\n",
    "* `'horsepower'`,\n",
    "* `'vehicle_weight'`,\n",
    "* `'model_year'`,\n",
    "* `'fuel_efficiency_mpg'`\n",
    "\n",
    "### 2.3 Exploratory Data Analysis\n",
    "\n",
    "* Look at the `fuel_efficiency_mpg` variable. Does it have a long tail?"
   ]
  },
  {
   "cell_type": "code",
   "execution_count": 10,
   "id": "a62fed81-f1ef-4bb9-8b63-a053ae798bae",
   "metadata": {},
   "outputs": [],
   "source": [
    "### Visualize the data by plotting histogram\n",
    "import matplotlib.pyplot as plt\n",
    "import seaborn as sns\n",
    "\n",
    "%matplotlib inline"
   ]
  },
  {
   "cell_type": "code",
   "execution_count": 11,
   "id": "bd624154-06a4-43ca-b135-6738f5fc5942",
   "metadata": {},
   "outputs": [
    {
     "data": {
      "text/html": [
       "<div>\n",
       "<style scoped>\n",
       "    .dataframe tbody tr th:only-of-type {\n",
       "        vertical-align: middle;\n",
       "    }\n",
       "\n",
       "    .dataframe tbody tr th {\n",
       "        vertical-align: top;\n",
       "    }\n",
       "\n",
       "    .dataframe thead th {\n",
       "        text-align: right;\n",
       "    }\n",
       "</style>\n",
       "<table border=\"1\" class=\"dataframe\">\n",
       "  <thead>\n",
       "    <tr style=\"text-align: right;\">\n",
       "      <th></th>\n",
       "      <th>engine_displacement</th>\n",
       "      <th>horsepower</th>\n",
       "      <th>vehicle_weight</th>\n",
       "      <th>model_year</th>\n",
       "      <th>fuel_efficiency_mpg</th>\n",
       "    </tr>\n",
       "  </thead>\n",
       "  <tbody>\n",
       "    <tr>\n",
       "      <th>0</th>\n",
       "      <td>170</td>\n",
       "      <td>159.0</td>\n",
       "      <td>3413.433759</td>\n",
       "      <td>2003</td>\n",
       "      <td>13.231729</td>\n",
       "    </tr>\n",
       "    <tr>\n",
       "      <th>1</th>\n",
       "      <td>130</td>\n",
       "      <td>97.0</td>\n",
       "      <td>3149.664934</td>\n",
       "      <td>2007</td>\n",
       "      <td>13.688217</td>\n",
       "    </tr>\n",
       "    <tr>\n",
       "      <th>2</th>\n",
       "      <td>170</td>\n",
       "      <td>78.0</td>\n",
       "      <td>3079.038997</td>\n",
       "      <td>2018</td>\n",
       "      <td>14.246341</td>\n",
       "    </tr>\n",
       "    <tr>\n",
       "      <th>3</th>\n",
       "      <td>220</td>\n",
       "      <td>NaN</td>\n",
       "      <td>2542.392402</td>\n",
       "      <td>2009</td>\n",
       "      <td>16.912736</td>\n",
       "    </tr>\n",
       "    <tr>\n",
       "      <th>4</th>\n",
       "      <td>210</td>\n",
       "      <td>140.0</td>\n",
       "      <td>3460.870990</td>\n",
       "      <td>2009</td>\n",
       "      <td>12.488369</td>\n",
       "    </tr>\n",
       "  </tbody>\n",
       "</table>\n",
       "</div>"
      ],
      "text/plain": [
       "   engine_displacement  horsepower  vehicle_weight  model_year  \\\n",
       "0                  170       159.0     3413.433759        2003   \n",
       "1                  130        97.0     3149.664934        2007   \n",
       "2                  170        78.0     3079.038997        2018   \n",
       "3                  220         NaN     2542.392402        2009   \n",
       "4                  210       140.0     3460.870990        2009   \n",
       "\n",
       "   fuel_efficiency_mpg  \n",
       "0            13.231729  \n",
       "1            13.688217  \n",
       "2            14.246341  \n",
       "3            16.912736  \n",
       "4            12.488369  "
      ]
     },
     "execution_count": 11,
     "metadata": {},
     "output_type": "execute_result"
    }
   ],
   "source": [
    "df_selected = df[['engine_displacement','horsepower','vehicle_weight','model_year','fuel_efficiency_mpg']]\n",
    "df_selected.head()"
   ]
  },
  {
   "cell_type": "code",
   "execution_count": 12,
   "id": "22dec0c4-7543-448c-a16b-21662638b14f",
   "metadata": {},
   "outputs": [
    {
     "data": {
      "text/plain": [
       "<Axes: xlabel='fuel_efficiency_mpg', ylabel='Count'>"
      ]
     },
     "execution_count": 12,
     "metadata": {},
     "output_type": "execute_result"
    },
    {
     "data": {
      "image/png": "[encoded data removed]",
      "text/plain": [
       "<Figure size 640x480 with 1 Axes>"
      ]
     },
     "metadata": {},
     "output_type": "display_data"
    }
   ],
   "source": [
    "sns.histplot(df_selected.fuel_efficiency_mpg, bins=50)"
   ]
  },
  {
   "cell_type": "markdown",
   "id": "08198f46-74e8-4efa-9722-71e8b34fb84f",
   "metadata": {},
   "source": [
    "### Question 1\n",
    "\n",
    "There's one column with missing values. What is it?\n",
    "\n",
    "* `'engine_displacement'`\n",
    "* `'horsepower'`\n",
    "* `'vehicle_weight'`\n",
    "* `'model_year'`\n"
   ]
  },
  {
   "cell_type": "code",
   "execution_count": 13,
   "id": "0c787759-2778-4d6e-bc72-47bc425799b4",
   "metadata": {},
   "outputs": [
    {
     "data": {
      "text/plain": [
       "engine_displacement      0\n",
       "horsepower             708\n",
       "vehicle_weight           0\n",
       "model_year               0\n",
       "fuel_efficiency_mpg      0\n",
       "dtype: int64"
      ]
     },
     "execution_count": 13,
     "metadata": {},
     "output_type": "execute_result"
    }
   ],
   "source": [
    "# to find the column with missing values: horsepower, etc.\n",
    "df_selected.isnull().sum()"
   ]
  },
  {
   "cell_type": "markdown",
   "id": "1504c743-8935-4f86-8574-2bf6b036eb32",
   "metadata": {},
   "source": [
    "### 2.4 Setting up the validation framework"
   ]
  },
  {
   "cell_type": "markdown",
   "id": "ef063cdd-465d-45ee-ba0a-e2f6c76f6b78",
   "metadata": {},
   "source": [
    "### Prepare and split the dataset\n",
    "\n",
    "* Shuffle the dataset (the filtered one you created above), use seed `42`.\n",
    "* Split your data in train/val/test sets, with 60%/20%/20% distribution."
   ]
  },
  {
   "cell_type": "code",
   "execution_count": 14,
   "id": "720c874e-a910-4e33-8175-111b61e144cb",
   "metadata": {},
   "outputs": [
    {
     "name": "stdout",
     "output_type": "stream",
     "text": [
      "9704 1940 1940 5824\n"
     ]
    }
   ],
   "source": [
    "n = len(df_selected)\n",
    "\n",
    "n_val = int(n * 0.2)\n",
    "n_test = int(n * 0.2)\n",
    "n_train = n - n_val - n_test\n",
    "\n",
    "print(n, n_val, n_test, n_train)"
   ]
  },
  {
   "cell_type": "code",
   "execution_count": 15,
   "id": "8f8c0622-29ab-41d2-b667-246c0fbd0f54",
   "metadata": {},
   "outputs": [],
   "source": [
    "# train test val split\n",
    "df_val = df_selected.iloc[:n_val]\n",
    "df_test = df_selected.iloc[n_val:n_val+n_test]\n",
    "df_train = df_selected.iloc[n_val+n_test:]"
   ]
  },
  {
   "cell_type": "code",
   "execution_count": 16,
   "id": "7556cf85-3bf0-4147-9993-8e9d12d70e6e",
   "metadata": {},
   "outputs": [
    {
     "data": {
      "text/plain": [
       "array([   0,    1,    2, ..., 9701, 9702, 9703], shape=(9704,))"
      ]
     },
     "execution_count": 16,
     "metadata": {},
     "output_type": "execute_result"
    }
   ],
   "source": [
    "np.arange(n)"
   ]
  },
  {
   "cell_type": "code",
   "execution_count": 17,
   "id": "4c6ed875-6d69-470b-9c99-79b3685fad67",
   "metadata": {},
   "outputs": [],
   "source": [
    "# set an array of index\n",
    "idx = np.arange(n)\n",
    "\n",
    "# set seed to 42\n",
    "np.random.seed(42)\n",
    "\n",
    "# shuffle the index and split your data in train/val/test sets\n",
    "np.random.shuffle(idx)\n",
    "\n",
    "df_val = df_selected.iloc[idx[:n_val]]\n",
    "df_test = df_selected.iloc[idx[n_val:n_val+n_test]]\n",
    "df_train = df_selected.iloc[idx[n_val+n_test:]]\n"
   ]
  },
  {
   "cell_type": "code",
   "execution_count": 18,
   "id": "37a2768d-fee4-4c88-a216-c760660ef733",
   "metadata": {},
   "outputs": [
    {
     "name": "stdout",
     "output_type": "stream",
     "text": [
      "1940 1940 5824\n"
     ]
    }
   ],
   "source": [
    "print(len(df_val),len(df_test),len(df_train))"
   ]
  },
  {
   "cell_type": "code",
   "execution_count": 19,
   "id": "7d3bff36-2ac5-442e-b6ae-85b13fd18d93",
   "metadata": {},
   "outputs": [
    {
     "data": {
      "text/html": [
       "<div>\n",
       "<style scoped>\n",
       "    .dataframe tbody tr th:only-of-type {\n",
       "        vertical-align: middle;\n",
       "    }\n",
       "\n",
       "    .dataframe tbody tr th {\n",
       "        vertical-align: top;\n",
       "    }\n",
       "\n",
       "    .dataframe thead th {\n",
       "        text-align: right;\n",
       "    }\n",
       "</style>\n",
       "<table border=\"1\" class=\"dataframe\">\n",
       "  <thead>\n",
       "    <tr style=\"text-align: right;\">\n",
       "      <th></th>\n",
       "      <th>engine_displacement</th>\n",
       "      <th>horsepower</th>\n",
       "      <th>vehicle_weight</th>\n",
       "      <th>model_year</th>\n",
       "      <th>fuel_efficiency_mpg</th>\n",
       "    </tr>\n",
       "  </thead>\n",
       "  <tbody>\n",
       "    <tr>\n",
       "      <th>8064</th>\n",
       "      <td>70</td>\n",
       "      <td>87.0</td>\n",
       "      <td>3346.134219</td>\n",
       "      <td>2004</td>\n",
       "      <td>13.085351</td>\n",
       "    </tr>\n",
       "    <tr>\n",
       "      <th>6622</th>\n",
       "      <td>280</td>\n",
       "      <td>147.0</td>\n",
       "      <td>4193.817815</td>\n",
       "      <td>2017</td>\n",
       "      <td>9.385060</td>\n",
       "    </tr>\n",
       "    <tr>\n",
       "      <th>2155</th>\n",
       "      <td>240</td>\n",
       "      <td>137.0</td>\n",
       "      <td>2471.172629</td>\n",
       "      <td>2010</td>\n",
       "      <td>17.697460</td>\n",
       "    </tr>\n",
       "    <tr>\n",
       "      <th>8916</th>\n",
       "      <td>240</td>\n",
       "      <td>127.0</td>\n",
       "      <td>4044.606636</td>\n",
       "      <td>2000</td>\n",
       "      <td>9.298735</td>\n",
       "    </tr>\n",
       "    <tr>\n",
       "      <th>3274</th>\n",
       "      <td>280</td>\n",
       "      <td>NaN</td>\n",
       "      <td>3039.297482</td>\n",
       "      <td>2011</td>\n",
       "      <td>14.724394</td>\n",
       "    </tr>\n",
       "  </tbody>\n",
       "</table>\n",
       "</div>"
      ],
      "text/plain": [
       "      engine_displacement  horsepower  vehicle_weight  model_year  \\\n",
       "8064                   70        87.0     3346.134219        2004   \n",
       "6622                  280       147.0     4193.817815        2017   \n",
       "2155                  240       137.0     2471.172629        2010   \n",
       "8916                  240       127.0     4044.606636        2000   \n",
       "3274                  280         NaN     3039.297482        2011   \n",
       "\n",
       "      fuel_efficiency_mpg  \n",
       "8064            13.085351  \n",
       "6622             9.385060  \n",
       "2155            17.697460  \n",
       "8916             9.298735  \n",
       "3274            14.724394  "
      ]
     },
     "execution_count": 19,
     "metadata": {},
     "output_type": "execute_result"
    }
   ],
   "source": [
    "# checking index of the split dataset\n",
    "df_train.head()"
   ]
  },
  {
   "cell_type": "code",
   "execution_count": 20,
   "id": "af24d883-2d0b-4663-a3e9-ded62b42586d",
   "metadata": {},
   "outputs": [],
   "source": [
    "# reset the index\n",
    "df_train = df_train.reset_index(drop=True)\n",
    "df_val = df_val.reset_index(drop=True)\n",
    "df_test = df_test.reset_index(drop=True)"
   ]
  },
  {
   "cell_type": "code",
   "execution_count": 21,
   "id": "49ab13b9-1312-487a-9c13-fe36675bc5c8",
   "metadata": {},
   "outputs": [],
   "source": [
    "# split the target y: fuel_efficiency_mpg\n",
    "y_train = df_train.fuel_efficiency_mpg\n",
    "y_val = df_val.fuel_efficiency_mpg\n",
    "y_test = df_test.fuel_efficiency_mpg\n",
    "\n",
    "# drop the target from X\n",
    "del df_train['fuel_efficiency_mpg']\n",
    "del df_val['fuel_efficiency_mpg']\n",
    "del df_test['fuel_efficiency_mpg']"
   ]
  },
  {
   "cell_type": "markdown",
   "id": "ca2aa08a-9617-4705-ade9-f610bdef6b4e",
   "metadata": {},
   "source": [
    "### Question 2\n",
    "\n",
    "What's the median (50% percentile) for variable `'horsepower'`?\n",
    "\n",
    "- 49\n",
    "- 99\n",
    "- 149\n",
    "- 199"
   ]
  },
  {
   "cell_type": "code",
   "execution_count": 22,
   "id": "cc7b9298-f47f-471f-91c9-9b9d7f4dab82",
   "metadata": {},
   "outputs": [
    {
     "data": {
      "text/plain": [
       "np.float64(149.0)"
      ]
     },
     "execution_count": 22,
     "metadata": {},
     "output_type": "execute_result"
    }
   ],
   "source": [
    "df_selected.horsepower.quantile(0.5)"
   ]
  },
  {
   "cell_type": "markdown",
   "id": "5ea75ffd-e10a-49d9-b66a-1be7961b089f",
   "metadata": {},
   "source": [
    "### 2.5 Linear Regression\n",
    "### 2.6 Linear Regression: Vector Form\n",
    "$g(x_i) = w_0 + \\sum^{n}_{j=1}w_j \\cdot x_{ij}$"
   ]
  },
  {
   "cell_type": "code",
   "execution_count": 23,
   "id": "ad30107c-faf4-45c1-841e-8d82faac4e9d",
   "metadata": {},
   "outputs": [],
   "source": [
    "def dot(xi,w):\n",
    "    n = len(xi)\n",
    "    res = 0.0\n",
    "    for j in range(n):\n",
    "        res = res + xi[j]*w[j]\n",
    "    return res\n",
    "\n",
    "def linear_regression(xi,w):\n",
    "    w_new = [w0] + w\n",
    "    xi = [1] + xi\n",
    "    return dot(xi, w_new)"
   ]
  },
  {
   "cell_type": "markdown",
   "id": "134d1ced-e7cd-49e2-8ab4-c1f4c28f32fa",
   "metadata": {},
   "source": [
    "### 2.7 Training a Linear Regression Model\n",
    "\n",
    "$$ X^T Xw = X^T y$$\n",
    "$$ w = \\left( X^{T} X \\right)^{-1} X^{T} y $$\n"
   ]
  },
  {
   "cell_type": "code",
   "execution_count": 24,
   "id": "37acf880-1618-4dc0-9557-8d17d0c72934",
   "metadata": {},
   "outputs": [],
   "source": [
    "def train_linear_regression(X,y):\n",
    "    ones = np.ones(X.shape[0])\n",
    "    X = np.column_stack([ones, X])  # X = [1 X1 X2 ...]\n",
    "\n",
    "    XTX = X.T.dot(X) \n",
    "    XTX_inv = np.linalg.inv(XTX)\n",
    "    XTy = X.T.dot(y)\n",
    "    w_full = XTX_inv.dot(XTy)\n",
    "\n",
    "    return w_full[0], w_full[1:]\n",
    "    "
   ]
  },
  {
   "cell_type": "markdown",
   "id": "daa6e53c-b8a5-45c8-8c4e-2d327c1d9f40",
   "metadata": {},
   "source": [
    "### 2.8 Building a Baseline Model \n",
    "- Extracting basic features for linear regression model\n",
    "- Replacing missing values with zeroes, mean etc. for training\n",
    "- Training data predictions plotted for comparison."
   ]
  },
  {
   "cell_type": "markdown",
   "id": "12631552-b182-4471-b7ef-0dd745dd1272",
   "metadata": {},
   "source": [
    "\n",
    "### Question 3\n",
    "\n",
    "* We need to deal with missing values for the column from Q1.\n",
    "* We have two options: fill it with 0 or with the mean of this variable.\n",
    "* Try both options. For each, train a linear regression model without regularization using the code from the lessons.\n",
    "* For computing the mean, use the training only!\n",
    "* Use the validation dataset to evaluate the models and compare the RMSE of each option.\n",
    "* Round the RMSE scores to 2 decimal digits using `round(score, 2)`\n",
    "* Which option gives better RMSE?\n",
    "\n",
    "Options:\n",
    "\n",
    "1. With 0\n",
    "2. With mean\n",
    "3. Both are equally good\n"
   ]
  },
  {
   "cell_type": "code",
   "execution_count": 25,
   "id": "3f06898b-326d-4072-b971-cb3529d02cba",
   "metadata": {},
   "outputs": [],
   "source": [
    "base = ['engine_displacement', 'horsepower', 'vehicle_weight', 'model_year']"
   ]
  },
  {
   "cell_type": "code",
   "execution_count": 26,
   "id": "88b802ce-cab5-4ed5-9cb1-a30afd080ba7",
   "metadata": {},
   "outputs": [
    {
     "data": {
      "text/plain": [
       "array([[  70.        ,   87.        , 3346.1342185 , 2004.        ],\n",
       "       [ 280.        ,  147.        , 4193.81781457, 2017.        ],\n",
       "       [ 240.        ,  137.        , 2471.17262896, 2010.        ],\n",
       "       ...,\n",
       "       [ 290.        ,  187.        , 2440.50803916, 2019.        ],\n",
       "       [ 260.        ,  129.        , 1865.40447951, 2019.        ],\n",
       "       [ 270.        ,  147.        , 2611.9394998 , 2017.        ]],\n",
       "      shape=(5824, 4))"
      ]
     },
     "execution_count": 26,
     "metadata": {},
     "output_type": "execute_result"
    }
   ],
   "source": [
    "df_train[base].values"
   ]
  },
  {
   "cell_type": "code",
   "execution_count": 27,
   "id": "c1514c46-6d1f-48e5-973d-d693062873ed",
   "metadata": {},
   "outputs": [
    {
     "data": {
      "image/png": "[encoded data removed]",
      "text/plain": [
       "<Figure size 1200x500 with 2 Axes>"
      ]
     },
     "metadata": {},
     "output_type": "display_data"
    }
   ],
   "source": [
    "# impute missing values with mean\n",
    "X_train_mean = df_train[base].fillna(df_train[base].mean()).values\n",
    "X_val_mean = df_val[base].fillna(df_val[base].mean()).values\n",
    "\n",
    "# impute missing values with zero\n",
    "X_train_zero = df_train[base].fillna(0).values\n",
    "X_val_zero = df_val[base].fillna(0).values\n",
    "\n",
    "# train the model with train data\n",
    "w0_mean, w_mean = train_linear_regression(X_train_mean,y_train)\n",
    "w0_zero, w_zero = train_linear_regression(X_train_zero,y_train)\n",
    "\n",
    "# compute y_pred for both\n",
    "y1_pred = w0_mean + X_val_mean.dot(w_mean)\n",
    "y2_pred = w0_zero + X_val_zero.dot(w_zero)\n",
    "\n",
    "# plot two subplots side by side\n",
    "\n",
    "plt.figure(figsize=(12, 5))\n",
    "\n",
    "plt.subplot(1, 2, 1) # row 1, column 2, count 1\n",
    "plt.hist(y1_pred, color='red', bins=50, alpha=0.6, label='Mean Imputation Pred')\n",
    "plt.hist(y_val, color='blue', bins=50, alpha=0.6, label='Actual y_train')\n",
    "plt.title('Mean Imputation Prediction Distribution')\n",
    "plt.legend()\n",
    "\n",
    "plt.subplot(1, 2, 2)\n",
    "plt.hist(y2_pred, color='red', bins=50, alpha=0.6, label='Zero Imputation Pred')\n",
    "plt.hist(y_val, color='blue', bins=50, alpha=0.6, label='Actual y_train')\n",
    "plt.title('Zero Imputation Prediction Distribution')\n",
    "plt.legend()\n",
    "\n",
    "# space between the plots\n",
    "plt.tight_layout()\n",
    "# show plot\n",
    "plt.show()"
   ]
  },
  {
   "cell_type": "markdown",
   "id": "b0541ecb-1651-4e77-a483-5f82217d0a55",
   "metadata": {},
   "source": [
    "### 2.9 RMSE\n",
    "$$ RMSE = \\sqrt{\\frac{1}{m} * \\sum^{m}_{i=1}(g(x_i)-y_i)^2} $$"
   ]
  },
  {
   "cell_type": "code",
   "execution_count": 28,
   "id": "cd59afac-d7b4-4111-a9af-9717df3ba78c",
   "metadata": {},
   "outputs": [],
   "source": [
    "def rmse(y,y_pred):\n",
    "    error = y - y_pred\n",
    "    se = error**2\n",
    "    mse = se.mean()\n",
    "    return np.sqrt(mse)\n"
   ]
  },
  {
   "cell_type": "markdown",
   "id": "9b5e84a3-2359-4ba9-bb9d-ea2a5d2728b5",
   "metadata": {},
   "source": [
    "### 2.10 Validating the model"
   ]
  },
  {
   "cell_type": "code",
   "execution_count": 29,
   "id": "7ae67915-047f-4cea-b643-ed7675d0d20a",
   "metadata": {},
   "outputs": [
    {
     "name": "stdout",
     "output_type": "stream",
     "text": [
      "RMSE for mean imputation: 0.47\n",
      "RMSE for zero imputation: 0.53\n"
     ]
    }
   ],
   "source": [
    "print(f\"RMSE for mean imputation:\",round(rmse(y_val,y1_pred),2))\n",
    "print(f\"RMSE for zero imputation:\",round(rmse(y_val,y2_pred),2))"
   ]
  },
  {
   "cell_type": "markdown",
   "id": "b7f909a2-3bbc-46ea-b349-e2eb2ea04b6f",
   "metadata": {},
   "source": [
    "### 2.13 Regularization\n",
    "$$ w = (X^TX + rI)^{-1} X^Ty$$, where r is the regularization parameter (hyperparameter)."
   ]
  },
  {
   "cell_type": "code",
   "execution_count": 30,
   "id": "86b572a5-9978-4b22-88bb-3cb0ad8cbca4",
   "metadata": {},
   "outputs": [],
   "source": [
    "def train_linear_regression_reg(X,y,r=0.001):\n",
    "    ones = np.ones(X.shape[0])\n",
    "    X = np.column_stack([ones, X])\n",
    "\n",
    "    XTX = X.T.dot(X)\n",
    "    XTX = XTX + r * np.eye(XTX.shape[0]) #  prevent overfitting (regularization) and ensuring invertibility\n",
    "    XTX_inv = np.linalg.inv(XTX)\n",
    "    XTy = X.T.dot(y)\n",
    "    w_full = XTX_inv.dot(XTy)\n",
    "\n",
    "    return w_full[0], w_full[1:]"
   ]
  },
  {
   "cell_type": "markdown",
   "id": "491a79df-ee63-40c2-bc44-88e84382a1be",
   "metadata": {},
   "source": [
    "\n",
    "### Question 4\n",
    "\n",
    "* Now let's train a regularized linear regression.\n",
    "* For this question, fill the NAs with 0. \n",
    "* Try different values of `r` from this list: `[0, 0.01, 0.1, 1, 5, 10, 100]`.\n",
    "* Use RMSE to evaluate the model on the validation dataset.\n",
    "* Round the RMSE scores to 2 decimal digits.\n",
    "* Which `r` gives the best RMSE?\n",
    "\n",
    "If there are multiple options, select the smallest `r`.\n",
    "\n",
    "Options:\n",
    "\n",
    "- 0\n",
    "- 0.01\n",
    "- 1\n",
    "- 10\n",
    "- 100\n"
   ]
  },
  {
   "cell_type": "code",
   "execution_count": 31,
   "id": "a65bd169-abe1-4783-a183-c4c1ec40b604",
   "metadata": {},
   "outputs": [
    {
     "name": "stdout",
     "output_type": "stream",
     "text": [
      "The best regularization parameter (r) is: 0\n"
     ]
    }
   ],
   "source": [
    "# checking across different regularization parameters r\n",
    "reg = [0, 0.01, 0.1, 1, 5, 10, 100]\n",
    "r_arr = {}\n",
    "for r_i in reg:\n",
    "    # Train the Ridge model on train set using the current r_i\n",
    "    w0, w = train_linear_regression_reg(X_train_zero,y_train,r=r_i)\n",
    "    # Predict on the validation set\n",
    "    y_pred = w0 + X_val_zero.dot(w)\n",
    "    # Store the RMSE score for each r\n",
    "    r_arr[r_i] = round(rmse(y_val,y_pred),4)\n",
    "    \n",
    "best_r = min(r_arr,key=r_arr.get)\n",
    "print(f\"The best regularization parameter (r) is: {best_r}\")"
   ]
  },
  {
   "cell_type": "markdown",
   "id": "0d547339-33c1-4802-ba0f-17de40b7a330",
   "metadata": {},
   "source": [
    "### Question 5 \n",
    "\n",
    "* We used seed 42 for splitting the data. Let's find out how selecting the seed influences our score.\n",
    "* Try different seed values: `[0, 1, 2, 3, 4, 5, 6, 7, 8, 9]`.\n",
    "* For each seed, do the train/validation/test split with 60%/20%/20% distribution.\n",
    "* Fill the missing values with 0 and train a model without regularization.\n",
    "* For each seed, evaluate the model on the validation dataset and collect the RMSE scores. \n",
    "* What's the standard deviation of all the scores? To compute the standard deviation, use `np.std`.\n",
    "* Round the result to 3 decimal digits (`round(std, 3)`)\n",
    "\n",
    "What's the value of std?\n",
    "\n",
    "- 0.001\n",
    "- 0.006\n",
    "- 0.060\n",
    "- 0.600\n",
    "\n",
    "> Note: Standard deviation shows how different the values are.\n",
    "> If it's low, then all values are approximately the same.\n",
    "> If it's high, the values are different. \n",
    "> If standard deviation of scores is low, then our model is *stable*.\n",
    "\n"
   ]
  },
  {
   "cell_type": "code",
   "execution_count": 32,
   "id": "73799d0d-9683-44fa-be84-3eb529523a8e",
   "metadata": {},
   "outputs": [
    {
     "name": "stdout",
     "output_type": "stream",
     "text": [
      "Individual RMSE Scores: [np.float64(0.517977832303543), np.float64(0.5133991852630773), np.float64(0.5221561286171921), np.float64(0.508468745158658), np.float64(0.5145319893064505), np.float64(0.49933517325225074), np.float64(0.5142923296975087), np.float64(0.5214820362158356), np.float64(0.5293573785239898), np.float64(0.5210801439874219)]\n",
      "Standard Deviation of Scores: 0.008\n"
     ]
    }
   ],
   "source": [
    "# Define the seeds and the list to store scores\n",
    "seeds = [0, 1, 2, 3, 4, 5, 6, 7, 8, 9]\n",
    "rmse_scores = []\n",
    "\n",
    "for s in seeds:\n",
    "    # set an array of index\n",
    "    idx = np.arange(len(df_selected))\n",
    "    \n",
    "    # set seed to s\n",
    "    np.random.seed(s)\n",
    "\n",
    "    # 1. shuffle the index and split your data in train/val/test sets\n",
    "    np.random.shuffle(idx)\n",
    "    \n",
    "    df_val = df_selected.iloc[idx[:n_val]]\n",
    "    df_test = df_selected.iloc[idx[n_val:n_val+n_test]]\n",
    "    df_train = df_selected.iloc[idx[n_val+n_test:]]\n",
    "\n",
    "    # 2. Split the data in X-y\n",
    "    # split the target y: fuel_efficiency_mpg\n",
    "    y_train = df_train.fuel_efficiency_mpg\n",
    "    y_val = df_val.fuel_efficiency_mpg\n",
    "    y_test = df_test.fuel_efficiency_mpg\n",
    "    \n",
    "    # drop the target from X\n",
    "    X_train = df_train.drop('fuel_efficiency_mpg', axis=1)\n",
    "    X_val = df_val.drop('fuel_efficiency_mpg', axis=1)\n",
    "    X_test = df_test.drop('fuel_efficiency_mpg', axis=1)\n",
    "    \n",
    "    # 3. Impute Missing Values with 0\n",
    "    X_train_zero = X_train[base].fillna(0).values\n",
    "    X_val_zero = X_val[base].fillna(0).values\n",
    "\n",
    "    # 4. Train Model (No regularization, r=0)\n",
    "    w0, w = train_linear_regression_reg(X_train_zero, y_train,r=0)\n",
    "\n",
    "    # 5. Predict on Validation Set\n",
    "    y_pred = w0 + X_val_zero.dot(w)\n",
    "\n",
    "    # 6. Calculate and Collect RMSE\n",
    "    score = rmse(y_val, y_pred)\n",
    "    rmse_scores.append(score)\n",
    "\n",
    "# The standard deviation of the collected RMSE scores\n",
    "std_dev = np.std(rmse_scores)\n",
    "\n",
    "# 7. Round the result\n",
    "final_std_dev = round(std_dev, 3)\n",
    "\n",
    "print(f\"Individual RMSE Scores: {rmse_scores}\")\n",
    "print(f\"Standard Deviation of Scores: {final_std_dev}\")\n"
   ]
  },
  {
   "cell_type": "markdown",
   "id": "02ce3a3e-eb87-4eda-a9b9-dcf733ba85e4",
   "metadata": {},
   "source": [
    "\n",
    "### Question 6\n",
    "\n",
    "* Split the dataset like previously, use seed 9.\n",
    "* Combine train and validation datasets.\n",
    "* Fill the missing values with 0 and train a model with `r=0.001`. \n",
    "* What's the RMSE on the test dataset?\n",
    "\n",
    "Options:\n",
    "\n",
    "- 0.15\n",
    "- 0.515\n",
    "- 5.15\n",
    "- 51.5"
   ]
  },
  {
   "cell_type": "code",
   "execution_count": 33,
   "id": "3dce5402-d161-44e6-8308-b401bd751564",
   "metadata": {},
   "outputs": [
    {
     "name": "stdout",
     "output_type": "stream",
     "text": [
      "Individual RMSE Score of seed 9: 0.516\n"
     ]
    }
   ],
   "source": [
    "# Define the seeds and the list to store scores\n",
    "seeds = [0, 1, 2, 3, 4, 5, 6, 7, 8, 9]\n",
    "rmse_scores = []\n",
    "\n",
    "# --- ITERATE THROUGH SEEDS ---\n",
    "for s in seeds:\n",
    "    # set an array of index\n",
    "    idx = np.arange(len(df_selected))\n",
    "    \n",
    "    # set seed to s\n",
    "    np.random.seed(s)\n",
    "\n",
    "    # 1. shuffle the index and split your data in train/val/test sets\n",
    "    np.random.shuffle(idx)\n",
    "    \n",
    "    # Combine train and validation datasets.\n",
    "    df_train = df_selected.iloc[idx[:n_val+n_train]]\n",
    "    df_test = df_selected.iloc[idx[n_val+n_train:]]\n",
    "\n",
    "    # 2. Split the data in X-y\n",
    "    # split the target y: fuel_efficiency_mpg\n",
    "    y_train = df_train.fuel_efficiency_mpg\n",
    "    y_test = df_test.fuel_efficiency_mpg\n",
    "    \n",
    "    # drop the target from X\n",
    "    X_train = df_train.drop('fuel_efficiency_mpg', axis=1)\n",
    "    X_test = df_test.drop('fuel_efficiency_mpg', axis=1)\n",
    "    \n",
    "    # 3. Impute Missing Values with 0\n",
    "    X_train_zero = X_train[base].fillna(0).values\n",
    "    X_test_zero = X_test[base].fillna(0).values\n",
    "\n",
    "    # 4. Train Model (regularization, r=0.001)\n",
    "    w0, w = train_linear_regression_reg(X_train_zero, y_train,r=0.001)\n",
    "\n",
    "    # 5. Predict on Test Set\n",
    "    y_pred = w0 + X_test_zero.dot(w)\n",
    "\n",
    "    # 6. Calculate and Collect RMSE\n",
    "    score = rmse(y_test, y_pred)\n",
    "    rmse_scores.append(score)\n",
    "\n",
    "print(f\"Individual RMSE Score of seed 9: {round(rmse_scores[-1],3)}\")"
   ]
  }
 ],
 "metadata": {
  "kernelspec": {
   "display_name": "Python 3 (ipykernel)",
   "language": "python",
   "name": "python3"
  },
  "language_info": {
   "codemirror_mode": {
    "name": "ipython",
    "version": 3
   },
   "file_extension": ".py",
   "mimetype": "text/x-python",
   "name": "python",
   "nbconvert_exporter": "python",
   "pygments_lexer": "ipython3",
   "version": "3.12.1"
  }
 },
 "nbformat": 4,
 "nbformat_minor": 5
}
