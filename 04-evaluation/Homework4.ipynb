{
 "cells": [
  {
   "cell_type": "markdown",
   "id": "f92b5794-cc75-4f3f-a9dc-5b64b582c12f",
   "metadata": {},
   "source": [
    "## Homework\n",
    "\n",
    "> Note: sometimes your answer doesn't match one of \n",
    "> the options exactly. That's fine. \n",
    "> Select the option that's closest to your solution.\n",
    "\n",
    "\n",
    "In this homework, we will use the lead scoring dataset Bank Marketing dataset. Download it from [here](https://raw.githubusercontent.com/alexeygrigorev/datasets/master/course_lead_scoring.csv).\n",
    "\n",
    "\n",
    "In this dataset our desired target for classification task will be `converted` variable - has the client signed up to the platform or not. \n",
    "\n",
    "### Data preparation\n",
    "\n",
    "* Check if the missing values are presented in the features.\n",
    "* If there are missing values:\n",
    "    * For caterogiral features, replace them with 'NA'\n",
    "    * For numerical features, replace with with 0.0 \n",
    "\n",
    "\n",
    "Split the data into 3 parts: train/validation/test with 60%/20%/20% distribution. Use `train_test_split` function for that with `random_state=1`\n",
    "\n",
    "\n",
    "## Submit the results\n",
    "\n",
    "* Submit your results here: https://courses.datatalks.club/ml-zoomcamp-2025/homework/hw04\n",
    "* If your answer doesn't match options exactly, select the closest one\n"
   ]
  },
  {
   "cell_type": "code",
   "execution_count": 1,
   "id": "5822457c-361a-489b-acf0-137be6cee123",
   "metadata": {},
   "outputs": [],
   "source": [
    "#@ IMPORTING LIBRARIES AND DEPENDENCIES:\n",
    "import pandas as pd\n",
    "import numpy as np\n",
    "\n",
    "import matplotlib.pyplot as plt\n",
    "import seaborn as sns\n",
    "\n",
    "# from sklearn.preprocessing import LabelEncoder\n",
    "from sklearn.model_selection import train_test_split\n",
    "\n",
    "from sklearn.metrics import roc_auc_score\n",
    "from sklearn.metrics import roc_curve\n",
    "\n",
    "from sklearn.feature_extraction import DictVectorizer\n",
    "from sklearn.linear_model import LogisticRegression\n",
    "from sklearn.model_selection import KFold\n",
    "\n",
    "%matplotlib inline\n",
    "\n",
    "## import data\n",
    "#!wget https://raw.githubusercontent.com/alexeygrigorev/datasets/master/course_lead_scoring.csv"
   ]
  },
  {
   "cell_type": "code",
   "execution_count": 2,
   "id": "9b132039-9faf-40ea-a138-e00b60854679",
   "metadata": {},
   "outputs": [
    {
     "name": "stdout",
     "output_type": "stream",
     "text": [
      "## checking the dtypes ##\n",
      "lead_source                  object\n",
      "industry                     object\n",
      "number_of_courses_viewed      int64\n",
      "annual_income               float64\n",
      "employment_status            object\n",
      "location                     object\n",
      "interaction_count             int64\n",
      "lead_score                  float64\n",
      "converted                     int64\n",
      "dtype: object\n",
      "## checking the number of total NAs ##\n",
      "lead_source                 128\n",
      "industry                    134\n",
      "number_of_courses_viewed      0\n",
      "annual_income               181\n",
      "employment_status           100\n",
      "location                     63\n",
      "interaction_count             0\n",
      "lead_score                    0\n",
      "converted                     0\n",
      "dtype: int64\n"
     ]
    }
   ],
   "source": [
    "## Loading data\n",
    "df = pd.read_csv(\"course_lead_scoring.csv\")\n",
    "\n",
    "print(\"## checking the dtypes ##\")\n",
    "print(df.dtypes)\n",
    "print(\"## checking the number of total NAs ##\")\n",
    "print(df.isna().sum())\n"
   ]
  },
  {
   "cell_type": "code",
   "execution_count": 3,
   "id": "08446e09-c76c-4bf4-a3a2-0bbe0c63a87b",
   "metadata": {},
   "outputs": [
    {
     "name": "stdout",
     "output_type": "stream",
     "text": [
      "    lead_source    industry  number_of_courses_viewed  annual_income  \\\n",
      "0      paid_ads         NaN                         1        79450.0   \n",
      "1  social_media      retail                         1        46992.0   \n",
      "2        events  healthcare                         5        78796.0   \n",
      "3      paid_ads      retail                         2        83843.0   \n",
      "4      referral   education                         3        85012.0   \n",
      "\n",
      "  employment_status       location  interaction_count  lead_score  converted  \n",
      "0        unemployed  south_america                  4        0.94          1  \n",
      "1          employed  south_america                  1        0.80          0  \n",
      "2        unemployed      australia                  3        0.69          1  \n",
      "3               NaN      australia                  1        0.87          0  \n",
      "4     self_employed         europe                  3        0.62          1  \n"
     ]
    }
   ],
   "source": [
    "print(df.head())"
   ]
  },
  {
   "cell_type": "code",
   "execution_count": 4,
   "id": "db76dccc-4ffd-45e1-b82c-f3e69c457edc",
   "metadata": {},
   "outputs": [
    {
     "name": "stdout",
     "output_type": "stream",
     "text": [
      "lead_source                 0\n",
      "industry                    0\n",
      "number_of_courses_viewed    0\n",
      "annual_income               0\n",
      "employment_status           0\n",
      "location                    0\n",
      "interaction_count           0\n",
      "lead_score                  0\n",
      "converted                   0\n",
      "dtype: int64\n"
     ]
    }
   ],
   "source": [
    "# impute the missing values\n",
    "for feature in df.columns:\n",
    "    # impute numerical features\n",
    "    if df[feature].dtype == 'int64':\n",
    "        df[feature] = df[feature].fillna(0)\n",
    "    elif df[feature].dtype == 'float64':\n",
    "        df[feature] = df[feature].fillna(0.0)\n",
    "    # impute categorical features\n",
    "    elif df[feature].dtype == 'object':\n",
    "        df[feature] = df[feature].fillna('NA')\n",
    "        \n",
    "### checking for missing values\n",
    "print(df.isna().sum())"
   ]
  },
  {
   "cell_type": "code",
   "execution_count": 5,
   "id": "4826621e-35b8-40e5-ba79-07e0b0c1e2e8",
   "metadata": {},
   "outputs": [],
   "source": [
    "## data splitting\n",
    "from sklearn.model_selection import train_test_split\n",
    "# random state\n",
    "n = 1\n",
    "target = 'converted'\n",
    "\n",
    "# First Split: Train (60%) vs. Temporary (40%) followed by Second Split: Test (50%) and Val (50%)\n",
    "df_full_train, df_test = train_test_split(df, test_size=0.4, random_state=1)\n",
    "df_train, df_val = train_test_split(df_full_train, test_size=0.5, random_state=1)\n",
    "\n",
    "df_train = df_train.reset_index(drop=True)\n",
    "df_val = df_val.reset_index(drop=True)\n",
    "df_test = df_test.reset_index(drop=True)\n",
    "\n",
    "# Separate features (X) and target (y) for each set\n",
    "y_train = df_train[target]\n",
    "y_val = df_val[target]\n",
    "y_test = df_test[target]\n",
    "\n",
    "df_train = df_train.drop(columns=[target])\n",
    "df_val = df_val.drop(columns=[target])\n",
    "df_test = df_test.drop(columns=[target])"
   ]
  },
  {
   "cell_type": "markdown",
   "id": "9811c50a-19eb-49a1-831d-f9945e0e63a9",
   "metadata": {},
   "source": [
    "### Question 1: ROC AUC feature importance\n",
    "\n",
    "ROC AUC could also be used to evaluate feature importance of numerical variables. \n",
    "\n",
    "Let's do that\n",
    "\n",
    "* For each numerical variable, use it as score (aka prediction) and compute the AUC with the `y` variable as ground truth.\n",
    "* Use the training dataset for that\n",
    "\n",
    "\n",
    "If your AUC is < 0.5, invert this variable by putting \"-\" in front\n",
    "\n",
    "(e.g. `-df_train['balance']`)\n",
    "\n",
    "AUC can go below 0.5 if the variable is negatively correlated with the target variable. You can change the direction of the correlation by negating this variable - then negative correlation becomes positive.\n",
    "\n",
    "Which numerical variable (among the following 4) has the highest AUC?\n",
    "\n",
    "- `lead_score`\n",
    "- `number_of_courses_viewed`\n",
    "- `interaction_count`\n",
    "- `annual_income`\n"
   ]
  },
  {
   "cell_type": "code",
   "execution_count": 6,
   "id": "946805e1-1dc0-4d0b-8931-d931e3d42dd6",
   "metadata": {},
   "outputs": [],
   "source": [
    "numerical = df.drop(columns=[target]).select_dtypes(include='number').columns.tolist()\n",
    "categorical = df.drop(columns=[target]).select_dtypes(include='object').columns.tolist()"
   ]
  },
  {
   "cell_type": "code",
   "execution_count": 7,
   "id": "fa1d4cdb-8970-4311-a9ef-20cc8d309843",
   "metadata": {},
   "outputs": [
    {
     "name": "stdout",
     "output_type": "stream",
     "text": [
      "                          auc_score\n",
      "interaction_count             0.751\n",
      "number_of_courses_viewed      0.748\n",
      "lead_score                    0.611\n",
      "annual_income                 0.538\n"
     ]
    }
   ],
   "source": [
    "#@ CALCULATING ROC AUC SCORE:\n",
    "from sklearn.metrics import roc_auc_score\n",
    "results = {}\n",
    "\n",
    "for feature in numerical:\n",
    "\n",
    "    auc = roc_auc_score(y_train, df_train[feature])   \n",
    "    if auc < 0.5 :        \n",
    "        adjusted_auc = roc_auc_score(ground_truth, - y_score)\n",
    "        results[feature] = {\n",
    "            'auc_score': round(adjusted_auc,3)\n",
    "            }\n",
    "    else:\n",
    "        results[feature] = {\n",
    "           'auc_score': round(auc,3)\n",
    "            }\n",
    "\n",
    "auc_scores = pd.DataFrame(results).T.sort_values('auc_score',ascending = False)\n",
    "\n",
    "print(auc_scores)\n",
    "        "
   ]
  },
  {
   "cell_type": "markdown",
   "id": "df5b5403-5915-40d8-8696-01baf64124c0",
   "metadata": {},
   "source": [
    "\n",
    "\n",
    "### Question 2: Training the model\n",
    "\n",
    "Apply one-hot-encoding using `DictVectorizer` and train the logistic regression with these parameters:\n",
    "\n",
    "```python\n",
    "LogisticRegression(solver='liblinear', C=1.0, max_iter=1000)\n",
    "```\n",
    "\n",
    "What's the AUC of this model on the validation dataset? (round to 3 digits)\n",
    "\n",
    "- 0.32\n",
    "- 0.52\n",
    "- 0.72\n",
    "- 0.92\n"
   ]
  },
  {
   "cell_type": "code",
   "execution_count": 8,
   "id": "2f0672c6-116a-46c0-aaae-835419d91241",
   "metadata": {},
   "outputs": [
    {
     "name": "stdout",
     "output_type": "stream",
     "text": [
      "AUC on Validation Dataset: 0.825\n"
     ]
    }
   ],
   "source": [
    "#@ TRAINING LOGISTIC REGRESSION MODEL:\n",
    "from sklearn.feature_extraction import DictVectorizer\n",
    "from sklearn.pipeline import Pipeline\n",
    "from sklearn.linear_model import LogisticRegression\n",
    "\n",
    "columns = categorical + numerical\n",
    "\n",
    "# Initialize the vectorizer\n",
    "dv = DictVectorizer(sparse=False)\n",
    "\n",
    "# Fit and transform the X_train and X_val\n",
    "train_dicts = df_train[columns].to_dict('records')\n",
    "X_train = dv.fit_transform(train_dicts)\n",
    "val_dicts = df_val[columns].to_dict('records')\n",
    "X_val = dv.transform(val_dicts)\n",
    "\n",
    "# Initialize the classifier\n",
    "model = LogisticRegression(solver='liblinear', C=1.0, max_iter=1000)\n",
    "model.fit(X_train, y_train)\n",
    "\n",
    "# Get probability predictions on the validation set\n",
    "y_pred_proba = model.predict_proba(X_val)[:, 1]\n",
    "\n",
    "# Compute the ROC AUC score\n",
    "auc_score = roc_auc_score(y_val, y_pred_proba)\n",
    "print(f\"AUC on Validation Dataset: {round(auc_score, 3)}\")\n"
   ]
  },
  {
   "cell_type": "code",
   "execution_count": 9,
   "id": "32a98404-77fe-4a9c-92ad-0b3f45d016e7",
   "metadata": {},
   "outputs": [
    {
     "data": {
      "text/plain": [
       "0.7209828324286155"
      ]
     },
     "execution_count": 9,
     "metadata": {},
     "output_type": "execute_result"
    }
   ],
   "source": [
    "#@ INSPECTING THE ROC AUC SCORE:\n",
    "y_pred_bin = model.predict(X_val)\n",
    "roc_auc_score(y_val, y_pred_bin)"
   ]
  },
  {
   "cell_type": "code",
   "execution_count": 10,
   "id": "2622f9b0-2d6e-477f-a1c1-2dc6775e7ae7",
   "metadata": {},
   "outputs": [
    {
     "data": {
      "image/png": "[encoded data removed]",
      "text/plain": [
       "<Figure size 500x500 with 1 Axes>"
      ]
     },
     "metadata": {},
     "output_type": "display_data"
    }
   ],
   "source": [
    "\n",
    "#@ INSPECTING THE ROC CURVE:\n",
    "plt.figure(figsize=(5, 5))\n",
    "\n",
    "fpr, tpr, _ = roc_curve(y_val, y_pred_proba)\n",
    "plt.plot(fpr, tpr, label='probability')\n",
    "\n",
    "fpr, tpr, _ = roc_curve(y_val, y_pred_bin)\n",
    "plt.plot(fpr, tpr, label='hard prediction')\n",
    "\n",
    "plt.plot([0, 1], [0, 1], color='grey', linestyle='--')\n",
    "\n",
    "plt.legend()\n",
    "plt.show()\n",
    "     "
   ]
  },
  {
   "cell_type": "markdown",
   "id": "aed94d7e-f5b3-4c0b-98ac-9b841cc7e773",
   "metadata": {},
   "source": [
    "\n",
    "\n",
    "### Question 3: Precision and Recall\n",
    "\n",
    "Now let's compute precision and recall for our model.\n",
    "\n",
    "* Evaluate the model on all thresholds from 0.0 to 1.0 with step 0.01\n",
    "* For each threshold, compute precision and recall\n",
    "* Plot them\n",
    "\n",
    "At which threshold precision and recall curves intersect?\n",
    "\n",
    "* 0.145\n",
    "* 0.345\n",
    "* 0.545\n",
    "* 0.745\n"
   ]
  },
  {
   "cell_type": "markdown",
   "id": "843ee0e0-0f81-4f8d-b477-8e5fcd1c63ab",
   "metadata": {},
   "source": [
    "\n",
    "### Question 4: F1 score\n",
    "\n",
    "Precision and recall are conflicting - when one grows, the other goes down. That's why they are often combined into the F1 score - a metrics that takes into account both\n",
    "\n",
    "This is the formula for computing F1:\n",
    "\n",
    "$$F_1 = 2 \\cdot \\cfrac{P \\cdot R}{P + R}$$\n",
    "\n",
    "Where $P$ is precision and $R$ is recall.\n",
    "\n",
    "Let's compute F1 for all thresholds from 0.0 to 1.0 with increment 0.01\n",
    "\n",
    "At which threshold F1 is maximal?\n",
    "\n",
    "- 0.14\n",
    "- 0.34\n",
    "- 0.54\n",
    "- 0.74\n"
   ]
  },
  {
   "cell_type": "code",
   "execution_count": 11,
   "id": "b5ec02d4-8a50-437d-8cec-1198c8484a75",
   "metadata": {},
   "outputs": [
    {
     "name": "stdout",
     "output_type": "stream",
     "text": [
      "Maximal F1 score (0.8245) is achieved at threshold: 0.43\n"
     ]
    }
   ],
   "source": [
    "from sklearn.metrics import precision_score, recall_score\n",
    "\n",
    "# Define thresholds\n",
    "thresholds = np.arange(0.0, 1.01, 0.01)\n",
    "\n",
    "# Compute F1 for each threshold\n",
    "scores = []\n",
    "for t in thresholds:\n",
    "    y_pred = (y_pred_proba >= t).astype(int)\n",
    "    \n",
    "    p = precision_score(y_val, y_pred, zero_division=0)\n",
    "    r = recall_score(y_val, y_pred, zero_division=0)\n",
    "    f1 = 2 * (p * r) / (p + r) if (p + r) > 0 else 0\n",
    "    diff = np.abs(p-r)\n",
    "    scores.append((t, p, r, f1))\n",
    "\n",
    "df_scores = pd.DataFrame(scores, columns=['threshold', 'precision', 'recall', 'f1'])\n",
    "\n",
    "\n",
    "# Find the threshold with the maximal F1 score\n",
    "max_f1_row = df_scores.loc[df_scores['f1'].idxmax()]\n",
    "\n",
    "max_f1_threshold = max_f1_row['threshold']\n",
    "max_f1_score = max_f1_row['f1']\n",
    "\n",
    "print(f\"Maximal F1 score ({max_f1_score:.4f}) is achieved at threshold: {max_f1_threshold:.2f}\")"
   ]
  },
  {
   "cell_type": "code",
   "execution_count": 12,
   "id": "2c491c9f-a7c8-474f-ae04-220266eab6b6",
   "metadata": {},
   "outputs": [
    {
     "data": {
      "text/plain": [
       "Text(0, 0.5, 'Score')"
      ]
     },
     "execution_count": 12,
     "metadata": {},
     "output_type": "execute_result"
    },
    {
     "data": {
      "image/png": "[encoded data removed]",
      "text/plain": [
       "<Figure size 1000x600 with 1 Axes>"
      ]
     },
     "metadata": {},
     "output_type": "display_data"
    }
   ],
   "source": [
    "#@ INSPECTING THE CURVES:\n",
    "plt.figure(figsize=(10, 6))\n",
    "plt.plot(df_scores['threshold'], df_scores['precision'], label='Precision', color='blue')\n",
    "plt.plot(df_scores['threshold'], df_scores['recall'], label='Recall', color='red')\n",
    "\n",
    "plt.title('Precision and Recall vs. Threshold')\n",
    "plt.xlabel('Threshold')\n",
    "plt.ylabel('Score')"
   ]
  },
  {
   "cell_type": "code",
   "execution_count": 13,
   "id": "752eeaba-1b0d-4034-b032-9728521f2f8b",
   "metadata": {},
   "outputs": [
    {
     "data": {
      "image/png": "[encoded data removed]",
      "text/plain": [
       "<Figure size 640x480 with 1 Axes>"
      ]
     },
     "metadata": {},
     "output_type": "display_data"
    }
   ],
   "source": [
    "#@ INSPECTING F1 SCORE:\n",
    "plt.plot(df_scores.threshold, df_scores.f1)\n",
    "plt.xticks(np.linspace(0, 1, 11))\n",
    "\n",
    "plt.title('F1 Score vs. Threshold')\n",
    "plt.xlabel('Threshold')\n",
    "plt.ylabel('F1 Score')\n",
    "plt.show()"
   ]
  },
  {
   "cell_type": "markdown",
   "id": "5f71c5c8-604c-40f2-a99c-5ab02b64e32e",
   "metadata": {},
   "source": [
    "### Question 5: 5-Fold CV\n",
    "\n",
    "\n",
    "Use the `KFold` class from Scikit-Learn to evaluate our model on 5 different folds:\n",
    "\n",
    "```\n",
    "KFold(n_splits=5, shuffle=True, random_state=1)\n",
    "```\n",
    "\n",
    "* Iterate over different folds of `df_full_train`\n",
    "* Split the data into train and validation\n",
    "* Train the model on train with these parameters: `LogisticRegression(solver='liblinear', C=1.0, max_iter=1000)`\n",
    "* Use AUC to evaluate the model on validation\n",
    "\n",
    "How large is standard deviation of the scores across different folds?\n",
    "\n",
    "- 0.0001\n",
    "- 0.006\n",
    "- 0.06\n",
    "- 0.36\n"
   ]
  },
  {
   "cell_type": "code",
   "execution_count": 14,
   "id": "acec3b2b-9667-4858-94a0-a1b1a7f24e33",
   "metadata": {},
   "outputs": [
    {
     "name": "stdout",
     "output_type": "stream",
     "text": [
      "0.828 +- 0.010\n"
     ]
    }
   ],
   "source": [
    "# First Split: Train (60%) vs. Temporary (40%) followed by Second Split: Test (50%) and Val (50%)\n",
    "df_full_train, df_test = train_test_split(df, test_size=0.4, random_state=1)\n",
    "df_train, df_val = train_test_split(df_full_train, test_size=0.5, random_state=1)\n",
    "\n",
    "df_train = df_train.reset_index(drop=True)\n",
    "df_val = df_val.reset_index(drop=True)\n",
    "df_test = df_test.reset_index(drop=True)\n",
    "\n",
    "#@ DEFINING TRAIN AND PREDICT FUNCTION:\n",
    "def train(df_train, y_train, C=1.0):\n",
    "    dicts = df_train[columns].to_dict(orient='records')\n",
    "\n",
    "    dv = DictVectorizer(sparse=False)\n",
    "    X_train = dv.fit_transform(dicts)\n",
    "\n",
    "    model = LogisticRegression(solver='liblinear', C=1.0, max_iter=1000)\n",
    "    model.fit(X_train, y_train)\n",
    "\n",
    "    return dv, model\n",
    "\n",
    "def predict(df, dv, model):\n",
    "    dicts = df[columns].to_dict(orient='records')\n",
    "\n",
    "    X = dv.transform(dicts)\n",
    "    y_pred = model.predict_proba(X)[:, 1]\n",
    "\n",
    "    return y_pred\n",
    "\n",
    "#@ INITIALIZING KFOLD CROSS VALIDATION:\n",
    "scores = []\n",
    "\n",
    "kfold = KFold(n_splits=5, shuffle=True, random_state=1)\n",
    "\n",
    "for train_idx, val_idx in kfold.split(df_full_train):\n",
    "    df_train = df_full_train.iloc[train_idx]\n",
    "    df_val = df_full_train.iloc[val_idx]\n",
    "\n",
    "    y_train = df_train['converted']\n",
    "    y_val = df_val['converted']\n",
    "\n",
    "    dv, model = train(df_train, y_train, C=1.0)\n",
    "    y_pred = predict(df_val, dv, model)\n",
    "\n",
    "    auc = roc_auc_score(y_val, y_pred)\n",
    "    scores.append(auc)\n",
    "\n",
    "print('%.3f +- %.3f' % (np.mean(scores), np.std(scores)))"
   ]
  },
  {
   "cell_type": "markdown",
   "id": "074c15f9-c7dd-435c-8b7c-76d05fb440ca",
   "metadata": {},
   "source": [
    "\n",
    "### Question 6: Hyperparameter Tuning\n",
    "\n",
    "Now let's use 5-Fold cross-validation to find the best parameter `C`\n",
    "\n",
    "* Iterate over the following `C` values: `[0.000001, 0.001, 1]`\n",
    "* Initialize `KFold` with the same parameters as previously\n",
    "* Use these parameters for the model: `LogisticRegression(solver='liblinear', C=C, max_iter=1000)`\n",
    "* Compute the mean score as well as the std (round the mean and std to 3 decimal digits)\n",
    "\n",
    "Which `C` leads to the best mean score?\n",
    "\n",
    "- 0.000001\n",
    "- 0.001\n",
    "- 1\n",
    "\n",
    "If you have ties, select the score with the lowest std. If you still have ties, select the smallest `C`."
   ]
  },
  {
   "cell_type": "code",
   "execution_count": 15,
   "id": "207940e6-6309-4815-900e-8cc57d101e79",
   "metadata": {},
   "outputs": [
    {
     "name": "stdout",
     "output_type": "stream",
     "text": [
      "C=1e-06, 0.828 +- 0.010\n",
      "C=0.001, 0.828 +- 0.010\n",
      "C=   1, 0.828 +- 0.010\n"
     ]
    }
   ],
   "source": [
    "#@ INSPECTING KFOLD CROSS VALIDATION:\n",
    "kfold = KFold(n_splits=5, shuffle=True, random_state=1)\n",
    "\n",
    "for C in [0.000001, 0.001, 1]:\n",
    "    scores = []\n",
    "\n",
    "    for train_idx, val_idx in kfold.split(df_full_train):\n",
    "        df_train = df_full_train.iloc[train_idx]\n",
    "        df_val = df_full_train.iloc[val_idx]\n",
    "\n",
    "        y_train = df_train.converted\n",
    "        y_val = df_val.converted\n",
    "\n",
    "        dv, model = train(df_train, y_train, C=C)\n",
    "        y_pred = predict(df_val, dv, model)\n",
    "\n",
    "        auc = roc_auc_score(y_val, y_pred)\n",
    "        scores.append(auc)\n",
    "\n",
    "    print('C=%4s, %.3f +- %.3f' % (C, np.mean(scores), np.std(scores)))"
   ]
  }
 ],
 "metadata": {
  "kernelspec": {
   "display_name": "Python 3 (ipykernel)",
   "language": "python",
   "name": "python3"
  },
  "language_info": {
   "codemirror_mode": {
    "name": "ipython",
    "version": 3
   },
   "file_extension": ".py",
   "mimetype": "text/x-python",
   "name": "python",
   "nbconvert_exporter": "python",
   "pygments_lexer": "ipython3",
   "version": "3.12.1"
  }
 },
 "nbformat": 4,
 "nbformat_minor": 5
}
